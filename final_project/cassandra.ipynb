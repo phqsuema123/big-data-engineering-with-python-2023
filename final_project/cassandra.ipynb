{
 "cells": [
  {
   "cell_type": "code",
   "execution_count": 215,
   "metadata": {},
   "outputs": [],
   "source": [
    "import pandas as pd\n",
    "import cassandra\n",
    "import re\n",
    "import os\n",
    "import glob\n",
    "import numpy as np\n",
    "import json\n",
    "import csv\n",
    "import matplotlib.pyplot as plt\n",
    "from cassandra.cluster import Cluster\n",
    "import requests\n",
    "from fuzzywuzzy import fuzz\n",
    "from collections import defaultdict\n",
    "from fuzzywuzzy import process\n",
    "from nltk.tokenize import word_tokenize"
   ]
  },
  {
   "cell_type": "markdown",
   "metadata": {},
   "source": [
    "Connect to Cassandra"
   ]
  },
  {
   "cell_type": "code",
   "execution_count": 142,
   "metadata": {},
   "outputs": [],
   "source": [
    "cluster = Cluster(['127.0.0.1']) \n",
    "session = cluster.connect()"
   ]
  },
  {
   "cell_type": "markdown",
   "metadata": {},
   "source": [
    "Create keyspace"
   ]
  },
  {
   "cell_type": "code",
   "execution_count": 47,
   "metadata": {},
   "outputs": [],
   "source": [
    "keyspace_name = \"data_quran\"  \n",
    "\n",
    "\n",
    "session.execute(\"CREATE KEYSPACE IF NOT EXISTS data_quran WITH replication = {'class': 'SimpleStrategy', 'replication_factor': '1'}\")\n",
    "\n",
    "session.set_keyspace('data_quran')"
   ]
  },
  {
   "cell_type": "markdown",
   "metadata": {},
   "source": [
    "use keyspace"
   ]
  },
  {
   "cell_type": "code",
   "execution_count": 48,
   "metadata": {},
   "outputs": [],
   "source": [
    "session.set_keyspace('data_quran')"
   ]
  },
  {
   "cell_type": "markdown",
   "metadata": {},
   "source": [
    "create table"
   ]
  },
  {
   "cell_type": "code",
   "execution_count": 134,
   "metadata": {},
   "outputs": [
    {
     "name": "stdout",
     "output_type": "stream",
     "text": [
      "Table 'arabic' created successfully!\n"
     ]
    }
   ],
   "source": [
    "create_table_query = \"\"\"\n",
    "    CREATE TABLE IF NOT EXISTS arabic (\n",
    "        verse_number int PRIMARY KEY,\n",
    "        surah int,\n",
    "        ayah_id int,\n",
    "        text varchar\n",
    "    );\n",
    "\"\"\"\n",
    "\n",
    "try:\n",
    "    session.execute(create_table_query)\n",
    "    print(\"Table 'arabic' created successfully!\")\n",
    "except Exception as e:\n",
    "    print(\"Error:\", e)"
   ]
  },
  {
   "cell_type": "code",
   "execution_count": 138,
   "metadata": {},
   "outputs": [
    {
     "name": "stdout",
     "output_type": "stream",
     "text": [
      "Table 'Tafseer' created successfully!\n"
     ]
    }
   ],
   "source": [
    "create_table_query = \"\"\"\n",
    "    CREATE TABLE IF NOT EXISTS Tafseer (\n",
    "        Name varchar,\n",
    "        Surah int,\n",
    "        Ayat int,\n",
    "        Verse text,\n",
    "        Tafseer text,\n",
    "        PRIMARY KEY (Name, Surah, Ayat)\n",
    "    );\n",
    "\"\"\"\n",
    "\n",
    "try:\n",
    "    session.execute(create_table_query)\n",
    "    print(\"Table 'Tafseer' created successfully!\")\n",
    "except Exception as e:\n",
    "    print(\"Error: Issue creating table\")\n",
    "    print(e)"
   ]
  },
  {
   "cell_type": "markdown",
   "metadata": {},
   "source": [
    "Extract data from csv"
   ]
  },
  {
   "cell_type": "code",
   "execution_count": 135,
   "metadata": {},
   "outputs": [
    {
     "name": "stdout",
     "output_type": "stream",
     "text": [
      "Data inserted successfully!\n"
     ]
    }
   ],
   "source": [
    "# Path to your CSV file\n",
    "csv_file = r\"C:\\Users\\ASUS\\Desktop\\big-data-engineering-with-python-2023\\final_project\\data\\arabic_ayah.csv\"  # Replace with your CSV file path\n",
    "\n",
    "# Read data from CSV and insert into Cassandra\n",
    "try:\n",
    "    # Read CSV file into DataFrame\n",
    "    df = pd.read_csv(csv_file)\n",
    "    \n",
    "    # Iterate over DataFrame rows and insert into Cassandra\n",
    "    for row in df.itertuples(index=False):\n",
    "        # Prepare and execute INSERT query\n",
    "        insert_query = session.prepare(\"INSERT INTO arabic (verse_number, surah, ayah_id, text) VALUES (?, ?, ?, ?)\")\n",
    "        session.execute(insert_query, (row.verse_number, row.surah, row.ayah_id, row.text))\n",
    "        \n",
    "    print(\"Data inserted successfully!\")\n",
    "except Exception as e:\n",
    "    print(\"Error: Inserting Rows\")\n",
    "    print(e)\n"
   ]
  },
  {
   "cell_type": "code",
   "execution_count": 140,
   "metadata": {},
   "outputs": [
    {
     "name": "stdout",
     "output_type": "stream",
     "text": [
      "Data inserted successfully!\n"
     ]
    }
   ],
   "source": [
    "\n",
    "\n",
    "\n",
    "file_path = r\"C:\\Users\\ASUS\\Desktop\\big-data-engineering-with-python-2023\\final_project\\data\\Quran_English_with_Tafseer.csv\"\n",
    "\n",
    "try:\n",
    "    with open(file_path, 'r', encoding='utf-8') as file:\n",
    "        next(file) \n",
    "        for line in file:\n",
    "            parts = line.strip().split(',')  # Assuming data is CSV\n",
    "            name = parts[0]\n",
    "            surah = int(parts[1])\n",
    "            ayat = int(parts[2])\n",
    "            verse = parts[3]\n",
    "            tafseer = parts[4]\n",
    "            # Prepare and execute INSERT query\n",
    "            insert_query = session.prepare(\"INSERT INTO Tafseer (Name, Surah, Ayat, Verse, Tafseer) VALUES (?, ?, ?, ?, ?)\")\n",
    "            session.execute(insert_query, (name, surah, ayat, verse, tafseer))\n",
    "    print(\"Data inserted successfully!\")\n",
    "except Exception as e:\n",
    "    print(\"Error: Inserting Data\")\n",
    "    print(e)\n",
    "\n",
    "# Close connection\n",
    "cluster.shutdown()\n"
   ]
  },
  {
   "cell_type": "markdown",
   "metadata": {},
   "source": [
    "Show Al-quran data "
   ]
  },
  {
   "cell_type": "code",
   "execution_count": 136,
   "metadata": {},
   "outputs": [
    {
     "name": "stdout",
     "output_type": "stream",
     "text": [
      "Row(verse_number=4317, ayah_id=45, surah=42, text='وَتَرَىٰهُمۡ يُعۡرَضُونَ عَلَيۡهَا خَٰشِعِينَ مِنَ ٱلذُّلِّ يَنظُرُونَ مِن طَرۡفٍ خَفِيّٖۗ وَقَالَ ٱلَّذِينَ ءَامَنُوٓاْ إِنَّ ٱلۡخَٰسِرِينَ ٱلَّذِينَ خَسِرُوٓاْ أَنفُسَهُمۡ وَأَهۡلِيهِمۡ يَوۡمَ ٱلۡقِيَٰمَةِۗ أَلَآ إِنَّ ٱلظَّـٰلِمِينَ فِي عَذَابٖ مُّقِيمٖ')\n"
     ]
    }
   ],
   "source": [
    "keyspace_name = \"data_quran\"\n",
    "session.set_keyspace(keyspace_name)\n",
    "\n",
    "\n",
    "table_name = \"arabic\"\n",
    "\n",
    "\n",
    "rows = session.execute(f\"SELECT * FROM {table_name} LIMIT 1\")\n",
    "\n",
    "\n",
    "for row in rows:\n",
    "    print(row)  # "
   ]
  },
  {
   "cell_type": "code",
   "execution_count": 144,
   "metadata": {},
   "outputs": [
    {
     "name": "stdout",
     "output_type": "stream",
     "text": [
      "Row(name='The Reality', surah=69, ayat=1, tafseer='The Reality the Resurrection in which is realised the truth of all that was rejected in the way of the raising from the graves the reckoning and the requital or it means the Resurrection which will manifest all of that.', verse='The Reality!')\n"
     ]
    }
   ],
   "source": [
    "keyspace_name = \"data_quran\"\n",
    "session.set_keyspace(keyspace_name)\n",
    "\n",
    "\n",
    "table_name = \"Tafseer\"\n",
    "\n",
    "\n",
    "rows = session.execute(f\"SELECT * FROM {table_name} LIMIT 1\")\n",
    "\n",
    "\n",
    "for row in rows:\n",
    "    print(row)  # "
   ]
  },
  {
   "cell_type": "markdown",
   "metadata": {},
   "source": [
    "The Question"
   ]
  },
  {
   "cell_type": "markdown",
   "metadata": {},
   "source": [
    "1"
   ]
  },
  {
   "cell_type": "code",
   "execution_count": 161,
   "metadata": {},
   "outputs": [
    {
     "name": "stdout",
     "output_type": "stream",
     "text": [
      "The phrase 'الٓمٓ' occurs 8 times in the database.\n"
     ]
    }
   ],
   "source": [
    "query = \"SELECT ayah_id, text FROM arabic\"\n",
    "try:\n",
    "    rows = session.execute(query)\n",
    "except Exception as e:\n",
    "    print(\"Error executing query:\", e)\n",
    "    rows = []\n",
    "\n",
    "\n",
    "search_phrase =\"الٓمٓ\"\n",
    "\n",
    "occurrence_count = 0\n",
    "for row in rows:\n",
    "    if search_phrase in row.text:\n",
    "        occurrence_count += 1\n",
    "\n",
    "\n",
    "print(f\"The phrase '{search_phrase}' occurs {occurrence_count} times in the database.\")"
   ]
  },
  {
   "cell_type": "markdown",
   "metadata": {},
   "source": [
    "2"
   ]
  },
  {
   "cell_type": "code",
   "execution_count": 167,
   "metadata": {},
   "outputs": [
    {
     "name": "stdout",
     "output_type": "stream",
     "text": [
      "The phrase 'وَ' occurs 4758 times in the database.\n"
     ]
    }
   ],
   "source": [
    "query = \"SELECT ayah_id, text FROM arabic\"\n",
    "try:\n",
    "    rows = session.execute(query)\n",
    "except Exception as e:\n",
    "    print(\"Error executing query:\", e)\n",
    "    rows = []\n",
    "\n",
    "\n",
    "search_phrase =\"وَ\"\n",
    "\n",
    "occurrence_count = 0\n",
    "for row in rows:\n",
    "    if search_phrase in row.text:\n",
    "        occurrence_count += 1\n",
    "\n",
    "\n",
    "print(f\"The phrase '{search_phrase}' occurs {occurrence_count} times in the database.\")"
   ]
  },
  {
   "cell_type": "markdown",
   "metadata": {},
   "source": [
    "3"
   ]
  },
  {
   "cell_type": "code",
   "execution_count": 172,
   "metadata": {},
   "outputs": [
    {
     "name": "stdout",
     "output_type": "stream",
     "text": [
      "The phrase 'ٱلَّذِينَ' occurs 879 times in the database.\n"
     ]
    }
   ],
   "source": [
    "query = \"SELECT ayah_id, text FROM arabic\"\n",
    "try:\n",
    "    rows = session.execute(query)\n",
    "except Exception as e:\n",
    "    print(\"Error executing query:\", e)\n",
    "    rows = []\n",
    "\n",
    "\n",
    "search_phrase =\"ٱلَّذِينَ\"\n",
    "\n",
    "occurrence_count = 0\n",
    "for row in rows:\n",
    "    if search_phrase in row.text:\n",
    "        occurrence_count += 1\n",
    "\n",
    "\n",
    "print(f\"The phrase '{search_phrase}' occurs {occurrence_count} times in the database.\")"
   ]
  },
  {
   "cell_type": "markdown",
   "metadata": {},
   "source": [
    "4"
   ]
  },
  {
   "cell_type": "code",
   "execution_count": 207,
   "metadata": {},
   "outputs": [
    {
     "name": "stdout",
     "output_type": "stream",
     "text": [
      "The most similar words to 'your_target_word_here' in the Tafseer text are:\n",
      "- you (Similarity Score: 90)\n",
      "- Our (Similarity Score: 90)\n",
      "- your (Similarity Score: 90)\n",
      "- Your (Similarity Score: 90)\n",
      "- here (Similarity Score: 90)\n",
      "- You (Similarity Score: 90)\n",
      "- our (Similarity Score: 90)\n",
      "- Get (Similarity Score: 90)\n",
      "- her (Similarity Score: 90)\n",
      "- word (Similarity Score: 90)\n"
     ]
    }
   ],
   "source": [
    "query = \"SELECT surah, ayat, tafseer FROM Tafseer\"\n",
    "try:\n",
    "    rows = session.execute(query)\n",
    "except Exception as e:\n",
    "    print(\"Error executing query:\", e)\n",
    "    rows = []\n",
    "\n",
    "# Define the target word\n",
    "target_word = \"your_target_word_here\"\n",
    "\n",
    "# Calculate similarity scores for words\n",
    "word_similarity_scores = defaultdict(float)\n",
    "for row in rows:\n",
    "    words = word_tokenize(row.tafseer)\n",
    "    for word in words:\n",
    "        similarity_score = process.extractOne(target_word, [word])\n",
    "        word_similarity_scores[word] = max(word_similarity_scores[word], similarity_score[1])\n",
    "\n",
    "# Sort the words based on similarity score\n",
    "similar_words = sorted(word_similarity_scores.items(), key=lambda x: x[1], reverse=True)\n",
    "\n",
    "# Print the most similar words\n",
    "print(f\"The most similar words to '{target_word}' in the Tafseer text are:\")\n",
    "for word, similarity_score in similar_words[:10]:  # Print top 10 similar words\n",
    "    print(f\"- {word} (Similarity Score: {similarity_score})\")"
   ]
  },
  {
   "cell_type": "markdown",
   "metadata": {},
   "source": [
    "5"
   ]
  },
  {
   "cell_type": "code",
   "execution_count": null,
   "metadata": {},
   "outputs": [
    {
     "name": "stdout",
     "output_type": "stream",
     "text": [
      "The word 'battle' appears 6 times in the 'Tafseer' table.\n"
     ]
    }
   ],
   "source": [
    "query = \"SELECT surah, ayat, tafseer FROM Tafseer\"\n",
    "try:\n",
    "    rows = session.execute(query)\n",
    "except Exception as e:\n",
    "    print(\"Error executing query:\", e)\n",
    "    rows = []\n",
    "\n",
    "\n",
    "search_word = \"battle\"\n",
    "\n",
    "\n",
    "occurrence_count = 0\n",
    "for row in rows:\n",
    "    if search_word in row.tafseer:\n",
    "        occurrence_count += 1\n",
    "\n",
    "\n",
    "print(f\"The word '{search_word}' appears {occurrence_count} times in the 'Tafseer' table.\")\n"
   ]
  },
  {
   "cell_type": "markdown",
   "metadata": {},
   "source": [
    "6"
   ]
  },
  {
   "cell_type": "code",
   "execution_count": 165,
   "metadata": {},
   "outputs": [
    {
     "name": "stdout",
     "output_type": "stream",
     "text": [
      "The word 'humans' appears 12 times in the 'Tafseer' table.\n"
     ]
    }
   ],
   "source": [
    "query = \"SELECT surah, ayat, tafseer FROM Tafseer\"\n",
    "try:\n",
    "    rows = session.execute(query)\n",
    "except Exception as e:\n",
    "    print(\"Error executing query:\", e)\n",
    "    rows = []\n",
    "\n",
    "\n",
    "search_word = \"humans\"\n",
    "\n",
    "\n",
    "occurrence_count = 0\n",
    "for row in rows:\n",
    "    if search_word in row.tafseer:\n",
    "        occurrence_count += 1\n",
    "\n",
    "\n",
    "print(f\"The word '{search_word}' appears {occurrence_count} times in the 'Tafseer' table.\")\n"
   ]
  },
  {
   "cell_type": "markdown",
   "metadata": {},
   "source": [
    "7"
   ]
  },
  {
   "cell_type": "code",
   "execution_count": 166,
   "metadata": {},
   "outputs": [
    {
     "name": "stdout",
     "output_type": "stream",
     "text": [
      "The word 'Muslim' appears 12 times in the 'Tafseer' table.\n"
     ]
    }
   ],
   "source": [
    "query = \"SELECT surah, ayat, tafseer FROM Tafseer\"\n",
    "try:\n",
    "    rows = session.execute(query)\n",
    "except Exception as e:\n",
    "    print(\"Error executing query:\", e)\n",
    "    rows = []\n",
    "\n",
    "\n",
    "search_word = \"Muslim\"\n",
    "\n",
    "\n",
    "occurrence_count = 0\n",
    "for row in rows:\n",
    "    if search_word in row.tafseer:\n",
    "        occurrence_count += 1\n",
    "\n",
    "\n",
    "print(f\"The word '{search_word}' appears {occurrence_count} times in the 'Tafseer' table.\")\n"
   ]
  },
  {
   "cell_type": "markdown",
   "metadata": {},
   "source": [
    "8"
   ]
  },
  {
   "cell_type": "code",
   "execution_count": 163,
   "metadata": {},
   "outputs": [
    {
     "name": "stdout",
     "output_type": "stream",
     "text": [
      "The word 'battle' appears 6 times in the 'Tafseer' table.\n"
     ]
    }
   ],
   "source": [
    "query = \"SELECT surah, ayat, tafseer FROM Tafseer\"\n",
    "try:\n",
    "    rows = session.execute(query)\n",
    "except Exception as e:\n",
    "    print(\"Error executing query:\", e)\n",
    "    rows = []\n",
    "\n",
    "\n",
    "search_word = \"battle\"\n",
    "\n",
    "\n",
    "occurrence_count = 0\n",
    "for row in rows:\n",
    "    if search_word in row.tafseer:\n",
    "        occurrence_count += 1\n",
    "\n",
    "print(f\"The word '{search_word}' appears {occurrence_count} times in the 'Tafseer' table.\")\n"
   ]
  },
  {
   "cell_type": "markdown",
   "metadata": {},
   "source": [
    "9"
   ]
  },
  {
   "cell_type": "code",
   "execution_count": 182,
   "metadata": {},
   "outputs": [
    {
     "name": "stdout",
     "output_type": "stream",
     "text": [
      "The word 'peace' appears 28 times in the 'Tafseer' table.\n"
     ]
    }
   ],
   "source": [
    "query = \"SELECT surah, ayat, tafseer FROM Tafseer\"\n",
    "try:\n",
    "    rows = session.execute(query)\n",
    "except Exception as e:\n",
    "    print(\"Error executing query:\", e)\n",
    "    rows = []\n",
    "\n",
    "search_word = \"peace\"\n",
    "\n",
    "\n",
    "occurrence_count = 0\n",
    "for row in rows:\n",
    "    if search_word in row.tafseer:\n",
    "        occurrence_count += 1\n",
    "\n",
    "\n",
    "print(f\"The word '{search_word}' appears {occurrence_count} times in the 'Tafseer' table.\")\n"
   ]
  },
  {
   "cell_type": "markdown",
   "metadata": {},
   "source": [
    "10"
   ]
  },
  {
   "cell_type": "code",
   "execution_count": 188,
   "metadata": {},
   "outputs": [
    {
     "name": "stdout",
     "output_type": "stream",
     "text": [
      "The word 'fira' appears 2 times in the 'Tafseer' table.\n"
     ]
    }
   ],
   "source": [
    "query = \"SELECT surah, ayat, tafseer FROM Tafseer\"\n",
    "try:\n",
    "    rows = session.execute(query)\n",
    "except Exception as e:\n",
    "    print(\"Error executing query:\", e)\n",
    "    rows = []\n",
    "\n",
    "\n",
    "search_word = \"fira\"\n",
    "\n",
    "\n",
    "occurrence_count = 0\n",
    "for row in rows:\n",
    "    if search_word in row.tafseer:\n",
    "        occurrence_count += 1\n",
    "\n",
    "\n",
    "print(f\"The word '{search_word}' appears {occurrence_count} times in the 'Tafseer' table.\")"
   ]
  },
  {
   "cell_type": "markdown",
   "metadata": {},
   "source": [
    "11"
   ]
  },
  {
   "cell_type": "code",
   "execution_count": 189,
   "metadata": {},
   "outputs": [
    {
     "name": "stdout",
     "output_type": "stream",
     "text": [
      "The word 'pasture' appears 2 times in the 'Tafseer' table.\n"
     ]
    }
   ],
   "source": [
    "query = \"SELECT surah, ayat, tafseer FROM Tafseer\"\n",
    "try:\n",
    "    rows = session.execute(query)\n",
    "except Exception as e:\n",
    "    print(\"Error executing query:\", e)\n",
    "    rows = []\n",
    "\n",
    "\n",
    "search_word = \"pasture\"\n",
    "\n",
    "\n",
    "occurrence_count = 0\n",
    "for row in rows:\n",
    "    if search_word in row.tafseer:\n",
    "        occurrence_count += 1\n",
    "\n",
    "\n",
    "print(f\"The word '{search_word}' appears {occurrence_count} times in the 'Tafseer' table.\")"
   ]
  },
  {
   "cell_type": "markdown",
   "metadata": {},
   "source": [
    "12"
   ]
  },
  {
   "cell_type": "code",
   "execution_count": 191,
   "metadata": {},
   "outputs": [
    {
     "name": "stdout",
     "output_type": "stream",
     "text": [
      "The word ' obeying' appears 2 times in the 'Tafseer' table.\n"
     ]
    }
   ],
   "source": [
    "query = \"SELECT surah, ayat, tafseer FROM Tafseer\"\n",
    "try:\n",
    "    rows = session.execute(query)\n",
    "except Exception as e:\n",
    "    print(\"Error executing query:\", e)\n",
    "    rows = []\n",
    "\n",
    "search_word = \" obeying\"\n",
    "\n",
    "\n",
    "occurrence_count = 0\n",
    "for row in rows:\n",
    "    if search_word in row.tafseer:\n",
    "        occurrence_count += 1\n",
    "\n",
    "\n",
    "print(f\"The word '{search_word}' appears {occurrence_count} times in the 'Tafseer' table.\")"
   ]
  },
  {
   "cell_type": "markdown",
   "metadata": {},
   "source": [
    "13"
   ]
  },
  {
   "cell_type": "code",
   "execution_count": 193,
   "metadata": {},
   "outputs": [
    {
     "name": "stdout",
     "output_type": "stream",
     "text": [
      "The word 'drunkenness' appears 1 times in the 'Tafseer' table.\n"
     ]
    }
   ],
   "source": [
    "query = \"SELECT surah, ayat, tafseer FROM Tafseer\"\n",
    "try:\n",
    "    rows = session.execute(query)\n",
    "except Exception as e:\n",
    "    print(\"Error executing query:\", e)\n",
    "    rows = []\n",
    "\n",
    "\n",
    "search_word = \"drunkenness\"\n",
    "\n",
    "\n",
    "occurrence_count = 0\n",
    "for row in rows:\n",
    "    if search_word in row.tafseer:\n",
    "        occurrence_count += 1\n",
    "\n",
    "print(f\"The word '{search_word}' appears {occurrence_count} times in the 'Tafseer' table.\")"
   ]
  },
  {
   "cell_type": "markdown",
   "metadata": {},
   "source": [
    "14"
   ]
  },
  {
   "cell_type": "code",
   "execution_count": 194,
   "metadata": {},
   "outputs": [
    {
     "name": "stdout",
     "output_type": "stream",
     "text": [
      "The word 'gambling' appears 1 times in the 'Tafseer' table.\n"
     ]
    }
   ],
   "source": [
    "query = \"SELECT surah, ayat, tafseer FROM Tafseer\"\n",
    "try:\n",
    "    rows = session.execute(query)\n",
    "except Exception as e:\n",
    "    print(\"Error executing query:\", e)\n",
    "    rows = []\n",
    "\n",
    "\n",
    "search_word = \"gambling\"\n",
    "\n",
    "occurrence_count = 0\n",
    "for row in rows:\n",
    "    if search_word in row.tafseer:\n",
    "        occurrence_count += 1\n",
    "\n",
    "print(f\"The word '{search_word}' appears {occurrence_count} times in the 'Tafseer' table.\")"
   ]
  },
  {
   "cell_type": "markdown",
   "metadata": {},
   "source": [
    "15"
   ]
  },
  {
   "cell_type": "code",
   "execution_count": 198,
   "metadata": {},
   "outputs": [
    {
     "name": "stdout",
     "output_type": "stream",
     "text": [
      "The word 'patience' appears 9 times in the 'Tafseer' table.\n"
     ]
    }
   ],
   "source": [
    "query = \"SELECT surah, ayat, tafseer FROM Tafseer\"\n",
    "try:\n",
    "    rows = session.execute(query)\n",
    "except Exception as e:\n",
    "    print(\"Error executing query:\", e)\n",
    "    rows = []\n",
    "\n",
    "search_word = \"patience\"\n",
    "\n",
    "occurrence_count = 0\n",
    "for row in rows:\n",
    "    if search_word in row.tafseer:\n",
    "        occurrence_count += 1\n",
    "\n",
    "print(f\"The word '{search_word}' appears {occurrence_count} times in the 'Tafseer' table.\")"
   ]
  },
  {
   "cell_type": "markdown",
   "metadata": {},
   "source": [
    "16"
   ]
  },
  {
   "cell_type": "code",
   "execution_count": 200,
   "metadata": {},
   "outputs": [
    {
     "name": "stdout",
     "output_type": "stream",
     "text": [
      "The word 'prophet' appears 51 times in the 'Tafseer' table.\n"
     ]
    }
   ],
   "source": [
    "query = \"SELECT surah, ayat, tafseer FROM Tafseer\"\n",
    "try:\n",
    "    rows = session.execute(query)\n",
    "except Exception as e:\n",
    "    print(\"Error executing query:\", e)\n",
    "    rows = []\n",
    "\n",
    "search_word = \"prophet\"\n",
    "\n",
    "occurrence_count = 0\n",
    "for row in rows:\n",
    "    if search_word in row.tafseer:\n",
    "        occurrence_count += 1\n",
    "\n",
    "print(f\"The word '{search_word}' appears {occurrence_count} times in the 'Tafseer' table.\")"
   ]
  },
  {
   "cell_type": "markdown",
   "metadata": {},
   "source": [
    "17"
   ]
  },
  {
   "cell_type": "code",
   "execution_count": 218,
   "metadata": {},
   "outputs": [
    {
     "name": "stdout",
     "output_type": "stream",
     "text": [
      "The word 'worship' appears 114 times in the 'Tafseer' table.\n"
     ]
    }
   ],
   "source": [
    "query = \"SELECT surah, ayat, tafseer FROM Tafseer\"\n",
    "try:\n",
    "    rows = session.execute(query)\n",
    "except Exception as e:\n",
    "    print(\"Error executing query:\", e)\n",
    "    rows = []\n",
    "\n",
    "search_word = \"worship\"\n",
    "\n",
    "occurrence_count = 0\n",
    "for row in rows:\n",
    "    if search_word in row.tafseer:\n",
    "        occurrence_count += 1\n",
    "\n",
    "print(f\"The word '{search_word}' appears {occurrence_count} times in the 'Tafseer' table.\")"
   ]
  },
  {
   "cell_type": "markdown",
   "metadata": {},
   "source": [
    "18"
   ]
  },
  {
   "cell_type": "code",
   "execution_count": 226,
   "metadata": {},
   "outputs": [
    {
     "name": "stdout",
     "output_type": "stream",
     "text": [
      "The word 'hell' appears 31 times in the 'Tafseer' table.\n"
     ]
    }
   ],
   "source": [
    "query = \"SELECT surah, ayat, tafseer FROM Tafseer\"\n",
    "try:\n",
    "    rows = session.execute(query)\n",
    "except Exception as e:\n",
    "    print(\"Error executing query:\", e)\n",
    "    rows = []\n",
    "\n",
    "search_word = \"hell\"\n",
    "\n",
    "occurrence_count = 0\n",
    "for row in rows:\n",
    "    if search_word in row.tafseer:\n",
    "        occurrence_count += 1\n",
    "\n",
    "print(f\"The word '{search_word}' appears {occurrence_count} times in the 'Tafseer' table.\")"
   ]
  },
  {
   "cell_type": "markdown",
   "metadata": {},
   "source": [
    "19"
   ]
  },
  {
   "cell_type": "code",
   "execution_count": 228,
   "metadata": {},
   "outputs": [
    {
     "name": "stdout",
     "output_type": "stream",
     "text": [
      "The word 'fire' appears 40 times in the 'Tafseer' table.\n"
     ]
    }
   ],
   "source": [
    "query = \"SELECT surah, ayat, tafseer FROM Tafseer\"\n",
    "try:\n",
    "    rows = session.execute(query)\n",
    "except Exception as e:\n",
    "    print(\"Error executing query:\", e)\n",
    "    rows = []\n",
    "\n",
    "search_word = \"fire\"\n",
    "\n",
    "occurrence_count = 0\n",
    "for row in rows:\n",
    "    if search_word in row.tafseer:\n",
    "        occurrence_count += 1\n",
    "\n",
    "print(f\"The word '{search_word}' appears {occurrence_count} times in the 'Tafseer' table.\")"
   ]
  },
  {
   "cell_type": "markdown",
   "metadata": {},
   "source": [
    "20"
   ]
  },
  {
   "cell_type": "code",
   "execution_count": 229,
   "metadata": {},
   "outputs": [
    {
     "name": "stdout",
     "output_type": "stream",
     "text": [
      "The word 'light' appears 50 times in the 'Tafseer' table.\n"
     ]
    }
   ],
   "source": [
    "query = \"SELECT surah, ayat, tafseer FROM Tafseer\"\n",
    "try:\n",
    "    rows = session.execute(query)\n",
    "except Exception as e:\n",
    "    print(\"Error executing query:\", e)\n",
    "    rows = []\n",
    "\n",
    "search_word = \"light\"\n",
    "\n",
    "occurrence_count = 0\n",
    "for row in rows:\n",
    "    if search_word in row.tafseer:\n",
    "        occurrence_count += 1\n",
    "\n",
    "print(f\"The word '{search_word}' appears {occurrence_count} times in the 'Tafseer' table.\")"
   ]
  }
 ],
 "metadata": {
  "kernelspec": {
   "display_name": "base",
   "language": "python",
   "name": "python3"
  },
  "language_info": {
   "codemirror_mode": {
    "name": "ipython",
    "version": 3
   },
   "file_extension": ".py",
   "mimetype": "text/x-python",
   "name": "python",
   "nbconvert_exporter": "python",
   "pygments_lexer": "ipython3",
   "version": "3.9.12"
  }
 },
 "nbformat": 4,
 "nbformat_minor": 2
}
