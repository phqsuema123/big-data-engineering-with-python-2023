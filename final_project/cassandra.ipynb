{
 "cells": [
  {
   "cell_type": "code",
   "execution_count": 63,
   "metadata": {},
   "outputs": [],
   "source": [
    "import pandas as pd\n",
    "import cassandra\n",
    "import re\n",
    "import os\n",
    "import glob\n",
    "import numpy as np\n",
    "import json\n",
    "import csv\n",
    "import matplotlib.pyplot as plt\n",
    "from cassandra.cluster import Cluster\n",
    "import requests"
   ]
  },
  {
   "cell_type": "code",
   "execution_count": 64,
   "metadata": {},
   "outputs": [
    {
     "name": "stdout",
     "output_type": "stream",
     "text": [
      "Requirement already satisfied: cassandra-driver in c:\\users\\asus\\anaconda3\\lib\\site-packages (3.29.0)\n",
      "Requirement already satisfied: geomet<0.3,>=0.1 in c:\\users\\asus\\anaconda3\\lib\\site-packages (from cassandra-driver) (0.2.1.post1)\n",
      "Requirement already satisfied: click in c:\\users\\asus\\anaconda3\\lib\\site-packages (from geomet<0.3,>=0.1->cassandra-driver) (8.1.7)\n",
      "Requirement already satisfied: six in c:\\users\\asus\\anaconda3\\lib\\site-packages (from geomet<0.3,>=0.1->cassandra-driver) (1.16.0)\n",
      "Requirement already satisfied: colorama in c:\\users\\asus\\anaconda3\\lib\\site-packages (from click->geomet<0.3,>=0.1->cassandra-driver) (0.4.4)\n",
      "Note: you may need to restart the kernel to use updated packages.\n"
     ]
    }
   ],
   "source": [
    "pip install cassandra-driver\n"
   ]
  },
  {
   "cell_type": "markdown",
   "metadata": {},
   "source": [
    "Connect to Cassandra"
   ]
  },
  {
   "cell_type": "code",
   "execution_count": 109,
   "metadata": {},
   "outputs": [],
   "source": [
    "cluster = Cluster(['127.0.0.1']) \n",
    "session = cluster.connect()"
   ]
  },
  {
   "cell_type": "markdown",
   "metadata": {},
   "source": [
    "Create keyspace"
   ]
  },
  {
   "cell_type": "code",
   "execution_count": 66,
   "metadata": {},
   "outputs": [],
   "source": [
    "keyspace_name = \"data_quran\"  \n",
    "\n",
    "\n",
    "session.execute(\"CREATE KEYSPACE IF NOT EXISTS data_quran WITH replication = {'class': 'SimpleStrategy', 'replication_factor': '1'}\")\n",
    "\n",
    "session.set_keyspace('data_quran')"
   ]
  },
  {
   "cell_type": "markdown",
   "metadata": {},
   "source": [
    "use keyspace"
   ]
  },
  {
   "cell_type": "code",
   "execution_count": 67,
   "metadata": {},
   "outputs": [],
   "source": [
    "session.set_keyspace('data_quran')"
   ]
  },
  {
   "cell_type": "markdown",
   "metadata": {},
   "source": [
    "create table"
   ]
  },
  {
   "cell_type": "code",
   "execution_count": null,
   "metadata": {},
   "outputs": [],
   "source": [
    "keyspace_name = \"data_quran\"\n",
    "session.set_keyspace(keyspace_name)\n",
    "\n",
    "session.execute(\"\"\"\n",
    "    CREATE TABLE IF NOT EXISTS translation_data (\n",
    "        translation_key text,\n",
    "        sura_number int,\n",
    "        data text,\n",
    "        PRIMARY KEY (translation_key, sura_number)\n",
    "    )\n",
    "\"\"\")"
   ]
  },
  {
   "cell_type": "markdown",
   "metadata": {},
   "source": [
    "Extract data from API"
   ]
  },
  {
   "cell_type": "code",
   "execution_count": 84,
   "metadata": {},
   "outputs": [],
   "source": [
    "def insert_translation_data(translation_key, sura_number, data):\n",
    "    session.execute(\"\"\"\n",
    "        INSERT INTO translation_data (translation_key, sura_number, data) \n",
    "        VALUES (%s, %s, %s)\n",
    "    \"\"\", (translation_key, sura_number, data))\n",
    "\n",
    "def fetch_and_store_translation_data(translation_key, sura_number):\n",
    "    api_url = f\"https://quranenc.com/api/v1/translation/sura/{translation_key}/{sura_number}\"\n",
    "    response = requests.get(api_url)\n",
    "    if response.status_code == 200:\n",
    "        data = response.json()\n",
    "        insert_translation_data(translation_key, sura_number, str(data))\n",
    "\n",
    "\n",
    "translation_key = \"english_rwwad\"\n",
    "\n",
    "for sura_number in range(1, 115):\n",
    "    fetch_and_store_translation_data(translation_key, sura_number)"
   ]
  },
  {
   "cell_type": "markdown",
   "metadata": {},
   "source": [
    "Show Al-quran data "
   ]
  },
  {
   "cell_type": "code",
   "execution_count": 112,
   "metadata": {},
   "outputs": [
    {
     "name": "stdout",
     "output_type": "stream",
     "text": [
      "Row(translation_key='english_rwwad', sura_number=1, data='{\\'result\\': [{\\'id\\': \\'1\\', \\'sura\\': \\'1\\', \\'aya\\': \\'1\\', \\'arabic_text\\': \\'بِسۡمِ ٱللَّهِ ٱلرَّحۡمَٰنِ ٱلرَّحِيمِ\\', \\'translation\\': \\'In the name of Allah, the Most Compassionate, the Most Merciful\\', \\'footnotes\\': \\'\\'}, {\\'id\\': \\'2\\', \\'sura\\': \\'1\\', \\'aya\\': \\'2\\', \\'arabic_text\\': \\'ٱلۡحَمۡدُ لِلَّهِ رَبِّ ٱلۡعَٰلَمِينَ\\', \\'translation\\': \\'All praise be to Allah[1], the Lord[2] of the worlds[3],\\', \\'footnotes\\': \\'[1] Allah is God’s most unique name.\\\\n [2] The Arabic term \"rabb\" (translated as \"Lord\") includes all of the following meanings: \"owner, master, ruler, controller, sustainer, provider, guardian and caretaker.\"\\\\n [3] \"the worlds\" means mankind, jinn, and all that exists.\\'}, {\\'id\\': \\'3\\', \\'sura\\': \\'1\\', \\'aya\\': \\'3\\', \\'arabic_text\\': \\'ٱلرَّحۡمَٰنِ ٱلرَّحِيمِ\\', \\'translation\\': \\'the Most Compassionate, the Most Merciful[4],\\', \\'footnotes\\': \\'[4] Ar-Rahmān and Ar-Raheem are two names of Allah: Rahmān is used only to describe Allah, while raheem might be used to describe a human as well. Rahmān carries a wider meaning - merciful to all creation. Justice is a part of this mercy. Raheem includes the concept of specialty - especially merciful to the believers. Forgiveness is a part of this mercy. In addition, Rahmān is adjectival, referring to an attribute of Allah and is part of His essence. Raheem is verbal, indicating what He does: i.e., bestowing and implementing mercy.\\'}, {\\'id\\': \\'4\\', \\'sura\\': \\'1\\', \\'aya\\': \\'4\\', \\'arabic_text\\': \\'مَٰلِكِ يَوۡمِ ٱلدِّينِ\\', \\'translation\\': \\'Master[5] of the Day of Judgment.\\', \\'footnotes\\': \\'[5] Other meanings for \"Mālik\": Sovereign, Owner, etc.\\'}, {\\'id\\': \\'5\\', \\'sura\\': \\'1\\', \\'aya\\': \\'5\\', \\'arabic_text\\': \\'إِيَّاكَ نَعۡبُدُ وَإِيَّاكَ نَسۡتَعِينُ\\', \\'translation\\': \\'You alone we worship, and You alone we ask for help.\\', \\'footnotes\\': \\'\\'}, {\\'id\\': \\'6\\', \\'sura\\': \\'1\\', \\'aya\\': \\'6\\', \\'arabic_text\\': \\'ٱهۡدِنَا ٱلصِّرَٰطَ ٱلۡمُسۡتَقِيمَ\\', \\'translation\\': \\'Guide us to the straight path,\\', \\'footnotes\\': \\'\\'}, {\\'id\\': \\'7\\', \\'sura\\': \\'1\\', \\'aya\\': \\'7\\', \\'arabic_text\\': \\'صِرَٰطَ ٱلَّذِينَ أَنۡعَمۡتَ عَلَيۡهِمۡ غَيۡرِ ٱلۡمَغۡضُوبِ عَلَيۡهِمۡ وَلَا ٱلضَّآلِّينَ\\', \\'translation\\': \\'the path of those whom You have blessed[6]; not of those who incurred Your Wrath[7], or of those who went astray[8].\\', \\'footnotes\\': \\'[6] The way of the Prophets and those who follow them.\\\\n [7] Those who know the Truth and do not follow it, like the Jews.\\\\n [8] Those who are ignorant of the Truth and follow misguidance, like the Christians.\\'}]}')\n"
     ]
    }
   ],
   "source": [
    "keyspace_name = \"data_quran\"\n",
    "session.set_keyspace(keyspace_name)\n",
    "\n",
    "\n",
    "table_name = \"translation_data\"\n",
    "\n",
    "\n",
    "rows = session.execute(f\"SELECT * FROM {table_name} LIMIT 1\")\n",
    "\n",
    "\n",
    "for row in rows:\n",
    "    print(row)  # \n"
   ]
  },
  {
   "cell_type": "markdown",
   "metadata": {},
   "source": [
    "The Question"
   ]
  },
  {
   "cell_type": "code",
   "execution_count": 116,
   "metadata": {},
   "outputs": [
    {
     "name": "stdout",
     "output_type": "stream",
     "text": [
      "Sura Number: 2\n",
      "Sura Number: 3\n",
      "Sura Number: 4\n",
      "Sura Number: 8\n",
      "Sura Number: 9\n",
      "Sura Number: 16\n",
      "Sura Number: 18\n",
      "Sura Number: 21\n",
      "Sura Number: 33\n",
      "Sura Number: 47\n",
      "Sura Number: 52\n",
      "Total Sum of Sura Numbers: 213\n"
     ]
    }
   ],
   "source": [
    "table_name = \"translation_data\"\n",
    "\n",
    "# Define the search term\n",
    "search_term = \"battle\"\n",
    "\n",
    "# Execute a SELECT query to retrieve all rows from the table\n",
    "query = f\"SELECT sura_number, data FROM {table_name}\"\n",
    "rows = session.execute(query)\n",
    "\n",
    "# Initialize a variable to accumulate the sum of sura numbers\n",
    "total_sura_number = 0\n",
    "\n",
    "# Iterate over the rows and check if the search term exists in the data\n",
    "for row in rows:\n",
    "    if search_term in row.data:\n",
    "        print(\"Sura Number:\", row.sura_number)\n",
    "        total_sura_number += row.sura_number  # Add the sura_number to the total\n",
    "\n",
    "# Print the total sum of sura numbers\n",
    "print(\"Total Sum of Sura Numbers:\", total_sura_number)\n"
   ]
  }
 ],
 "metadata": {
  "kernelspec": {
   "display_name": "base",
   "language": "python",
   "name": "python3"
  },
  "language_info": {
   "codemirror_mode": {
    "name": "ipython",
    "version": 3
   },
   "file_extension": ".py",
   "mimetype": "text/x-python",
   "name": "python",
   "nbconvert_exporter": "python",
   "pygments_lexer": "ipython3",
   "version": "3.9.12"
  }
 },
 "nbformat": 4,
 "nbformat_minor": 2
}
