{
 "cells": [
  {
   "cell_type": "code",
   "execution_count": 44,
   "metadata": {},
   "outputs": [],
   "source": [
    "import pandas as pd\n",
    "import cassandra\n",
    "import re\n",
    "import os\n",
    "import glob\n",
    "import numpy as np\n",
    "import json\n",
    "import csv\n",
    "import matplotlib.pyplot as plt\n",
    "from cassandra.cluster import Cluster\n",
    "import requests"
   ]
  },
  {
   "cell_type": "code",
   "execution_count": 45,
   "metadata": {},
   "outputs": [
    {
     "name": "stdout",
     "output_type": "stream",
     "text": [
      "Requirement already satisfied: cassandra-driver in c:\\users\\asus\\anaconda3\\lib\\site-packages (3.29.0)\n",
      "Requirement already satisfied: geomet<0.3,>=0.1 in c:\\users\\asus\\anaconda3\\lib\\site-packages (from cassandra-driver) (0.2.1.post1)\n",
      "Requirement already satisfied: click in c:\\users\\asus\\anaconda3\\lib\\site-packages (from geomet<0.3,>=0.1->cassandra-driver) (8.1.7)\n",
      "Requirement already satisfied: six in c:\\users\\asus\\anaconda3\\lib\\site-packages (from geomet<0.3,>=0.1->cassandra-driver) (1.16.0)\n",
      "Requirement already satisfied: colorama in c:\\users\\asus\\anaconda3\\lib\\site-packages (from click->geomet<0.3,>=0.1->cassandra-driver) (0.4.4)\n",
      "Note: you may need to restart the kernel to use updated packages.\n"
     ]
    }
   ],
   "source": [
    "pip install cassandra-driver\n"
   ]
  },
  {
   "cell_type": "markdown",
   "metadata": {},
   "source": [
    "Connect to Cassandra"
   ]
  },
  {
   "cell_type": "code",
   "execution_count": 142,
   "metadata": {},
   "outputs": [],
   "source": [
    "cluster = Cluster(['127.0.0.1']) \n",
    "session = cluster.connect()"
   ]
  },
  {
   "cell_type": "markdown",
   "metadata": {},
   "source": [
    "Create keyspace"
   ]
  },
  {
   "cell_type": "code",
   "execution_count": 47,
   "metadata": {},
   "outputs": [],
   "source": [
    "keyspace_name = \"data_quran\"  \n",
    "\n",
    "\n",
    "session.execute(\"CREATE KEYSPACE IF NOT EXISTS data_quran WITH replication = {'class': 'SimpleStrategy', 'replication_factor': '1'}\")\n",
    "\n",
    "session.set_keyspace('data_quran')"
   ]
  },
  {
   "cell_type": "markdown",
   "metadata": {},
   "source": [
    "use keyspace"
   ]
  },
  {
   "cell_type": "code",
   "execution_count": 48,
   "metadata": {},
   "outputs": [],
   "source": [
    "session.set_keyspace('data_quran')"
   ]
  },
  {
   "cell_type": "markdown",
   "metadata": {},
   "source": [
    "create table"
   ]
  },
  {
   "cell_type": "code",
   "execution_count": 134,
   "metadata": {},
   "outputs": [
    {
     "name": "stdout",
     "output_type": "stream",
     "text": [
      "Table 'arabic' created successfully!\n"
     ]
    }
   ],
   "source": [
    "create_table_query = \"\"\"\n",
    "    CREATE TABLE IF NOT EXISTS arabic (\n",
    "        verse_number int PRIMARY KEY,\n",
    "        surah int,\n",
    "        ayah_id int,\n",
    "        text varchar\n",
    "    );\n",
    "\"\"\"\n",
    "\n",
    "try:\n",
    "    session.execute(create_table_query)\n",
    "    print(\"Table 'arabic' created successfully!\")\n",
    "except Exception as e:\n",
    "    print(\"Error:\", e)"
   ]
  },
  {
   "cell_type": "code",
   "execution_count": 138,
   "metadata": {},
   "outputs": [
    {
     "name": "stdout",
     "output_type": "stream",
     "text": [
      "Table 'Tafseer' created successfully!\n"
     ]
    }
   ],
   "source": [
    "create_table_query = \"\"\"\n",
    "    CREATE TABLE IF NOT EXISTS Tafseer (\n",
    "        Name varchar,\n",
    "        Surah int,\n",
    "        Ayat int,\n",
    "        Verse text,\n",
    "        Tafseer text,\n",
    "        PRIMARY KEY (Name, Surah, Ayat)\n",
    "    );\n",
    "\"\"\"\n",
    "\n",
    "try:\n",
    "    session.execute(create_table_query)\n",
    "    print(\"Table 'Tafseer' created successfully!\")\n",
    "except Exception as e:\n",
    "    print(\"Error: Issue creating table\")\n",
    "    print(e)"
   ]
  },
  {
   "cell_type": "markdown",
   "metadata": {},
   "source": [
    "Extract data from csv"
   ]
  },
  {
   "cell_type": "code",
   "execution_count": 135,
   "metadata": {},
   "outputs": [
    {
     "name": "stdout",
     "output_type": "stream",
     "text": [
      "Data inserted successfully!\n"
     ]
    }
   ],
   "source": [
    "# Path to your CSV file\n",
    "csv_file = r\"C:\\Users\\ASUS\\Desktop\\big-data-engineering-with-python-2023\\final_project\\data\\arabic_ayah.csv\"  # Replace with your CSV file path\n",
    "\n",
    "# Read data from CSV and insert into Cassandra\n",
    "try:\n",
    "    # Read CSV file into DataFrame\n",
    "    df = pd.read_csv(csv_file)\n",
    "    \n",
    "    # Iterate over DataFrame rows and insert into Cassandra\n",
    "    for row in df.itertuples(index=False):\n",
    "        # Prepare and execute INSERT query\n",
    "        insert_query = session.prepare(\"INSERT INTO arabic (verse_number, surah, ayah_id, text) VALUES (?, ?, ?, ?)\")\n",
    "        session.execute(insert_query, (row.verse_number, row.surah, row.ayah_id, row.text))\n",
    "        \n",
    "    print(\"Data inserted successfully!\")\n",
    "except Exception as e:\n",
    "    print(\"Error: Inserting Rows\")\n",
    "    print(e)\n"
   ]
  },
  {
   "cell_type": "code",
   "execution_count": 140,
   "metadata": {},
   "outputs": [
    {
     "name": "stdout",
     "output_type": "stream",
     "text": [
      "Data inserted successfully!\n"
     ]
    }
   ],
   "source": [
    "\n",
    "\n",
    "\n",
    "file_path = r\"C:\\Users\\ASUS\\Desktop\\big-data-engineering-with-python-2023\\final_project\\data\\Quran_English_with_Tafseer.csv\"\n",
    "\n",
    "try:\n",
    "    with open(file_path, 'r', encoding='utf-8') as file:\n",
    "        next(file) \n",
    "        for line in file:\n",
    "            parts = line.strip().split(',')  # Assuming data is CSV\n",
    "            name = parts[0]\n",
    "            surah = int(parts[1])\n",
    "            ayat = int(parts[2])\n",
    "            verse = parts[3]\n",
    "            tafseer = parts[4]\n",
    "            # Prepare and execute INSERT query\n",
    "            insert_query = session.prepare(\"INSERT INTO Tafseer (Name, Surah, Ayat, Verse, Tafseer) VALUES (?, ?, ?, ?, ?)\")\n",
    "            session.execute(insert_query, (name, surah, ayat, verse, tafseer))\n",
    "    print(\"Data inserted successfully!\")\n",
    "except Exception as e:\n",
    "    print(\"Error: Inserting Data\")\n",
    "    print(e)\n",
    "\n",
    "# Close connection\n",
    "cluster.shutdown()\n"
   ]
  },
  {
   "cell_type": "markdown",
   "metadata": {},
   "source": [
    "Show Al-quran data "
   ]
  },
  {
   "cell_type": "code",
   "execution_count": 136,
   "metadata": {},
   "outputs": [
    {
     "name": "stdout",
     "output_type": "stream",
     "text": [
      "Row(verse_number=4317, ayah_id=45, surah=42, text='وَتَرَىٰهُمۡ يُعۡرَضُونَ عَلَيۡهَا خَٰشِعِينَ مِنَ ٱلذُّلِّ يَنظُرُونَ مِن طَرۡفٍ خَفِيّٖۗ وَقَالَ ٱلَّذِينَ ءَامَنُوٓاْ إِنَّ ٱلۡخَٰسِرِينَ ٱلَّذِينَ خَسِرُوٓاْ أَنفُسَهُمۡ وَأَهۡلِيهِمۡ يَوۡمَ ٱلۡقِيَٰمَةِۗ أَلَآ إِنَّ ٱلظَّـٰلِمِينَ فِي عَذَابٖ مُّقِيمٖ')\n"
     ]
    }
   ],
   "source": [
    "keyspace_name = \"data_quran\"\n",
    "session.set_keyspace(keyspace_name)\n",
    "\n",
    "\n",
    "table_name = \"arabic\"\n",
    "\n",
    "\n",
    "rows = session.execute(f\"SELECT * FROM {table_name} LIMIT 1\")\n",
    "\n",
    "\n",
    "for row in rows:\n",
    "    print(row)  # "
   ]
  },
  {
   "cell_type": "markdown",
   "metadata": {},
   "source": [
    "The Question"
   ]
  },
  {
   "cell_type": "code",
   "execution_count": 144,
   "metadata": {},
   "outputs": [
    {
     "name": "stdout",
     "output_type": "stream",
     "text": [
      "Row(name='The Reality', surah=69, ayat=1, tafseer='The Reality the Resurrection in which is realised the truth of all that was rejected in the way of the raising from the graves the reckoning and the requital or it means the Resurrection which will manifest all of that.', verse='The Reality!')\n"
     ]
    }
   ],
   "source": [
    "keyspace_name = \"data_quran\"\n",
    "session.set_keyspace(keyspace_name)\n",
    "\n",
    "\n",
    "table_name = \"Tafseer\"\n",
    "\n",
    "\n",
    "rows = session.execute(f\"SELECT * FROM {table_name} LIMIT 1\")\n",
    "\n",
    "\n",
    "for row in rows:\n",
    "    print(row)  # "
   ]
  }
 ],
 "metadata": {
  "kernelspec": {
   "display_name": "base",
   "language": "python",
   "name": "python3"
  },
  "language_info": {
   "codemirror_mode": {
    "name": "ipython",
    "version": 3
   },
   "file_extension": ".py",
   "mimetype": "text/x-python",
   "name": "python",
   "nbconvert_exporter": "python",
   "pygments_lexer": "ipython3",
   "version": "3.9.12"
  }
 },
 "nbformat": 4,
 "nbformat_minor": 2
}
