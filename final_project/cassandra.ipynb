{
 "cells": [
  {
   "cell_type": "code",
   "execution_count": 28,
   "metadata": {},
   "outputs": [],
   "source": [
    "import pandas as pd\n",
    "import cassandra\n",
    "import re\n",
    "import os\n",
    "import glob\n",
    "import numpy as np\n",
    "import json\n",
    "import csv\n",
    "import matplotlib.pyplot as plt\n",
    "from cassandra.cluster import Cluster\n",
    "import requests"
   ]
  },
  {
   "cell_type": "code",
   "execution_count": 2,
   "metadata": {},
   "outputs": [
    {
     "name": "stdout",
     "output_type": "stream",
     "text": [
      "Requirement already satisfied: cassandra-driver in c:\\users\\asus\\anaconda3\\lib\\site-packages (3.29.0)\n",
      "Requirement already satisfied: geomet<0.3,>=0.1 in c:\\users\\asus\\anaconda3\\lib\\site-packages (from cassandra-driver) (0.2.1.post1)\n",
      "Requirement already satisfied: click in c:\\users\\asus\\anaconda3\\lib\\site-packages (from geomet<0.3,>=0.1->cassandra-driver) (8.1.7)\n",
      "Requirement already satisfied: six in c:\\users\\asus\\anaconda3\\lib\\site-packages (from geomet<0.3,>=0.1->cassandra-driver) (1.16.0)\n",
      "Requirement already satisfied: colorama in c:\\users\\asus\\anaconda3\\lib\\site-packages (from click->geomet<0.3,>=0.1->cassandra-driver) (0.4.4)\n",
      "Note: you may need to restart the kernel to use updated packages.\n"
     ]
    }
   ],
   "source": [
    "pip install cassandra-driver\n"
   ]
  },
  {
   "cell_type": "markdown",
   "metadata": {},
   "source": [
    "Connect to Cassandra"
   ]
  },
  {
   "cell_type": "code",
   "execution_count": 14,
   "metadata": {},
   "outputs": [],
   "source": [
    "cluster = Cluster(['127.0.0.1']) \n",
    "session = cluster.connect()"
   ]
  },
  {
   "cell_type": "markdown",
   "metadata": {},
   "source": [
    "Create keyspace"
   ]
  },
  {
   "cell_type": "code",
   "execution_count": 6,
   "metadata": {},
   "outputs": [],
   "source": [
    "keyspace_name = \"data_quran\"  \n",
    "\n",
    "\n",
    "session.execute(\"CREATE KEYSPACE IF NOT EXISTS data_quran WITH replication = {'class': 'SimpleStrategy', 'replication_factor': '1'}\")\n",
    "\n",
    "session.set_keyspace('data_quran')"
   ]
  },
  {
   "cell_type": "markdown",
   "metadata": {},
   "source": [
    "use keyspace"
   ]
  },
  {
   "cell_type": "code",
   "execution_count": 25,
   "metadata": {},
   "outputs": [],
   "source": [
    "session.set_keyspace('data_quran')"
   ]
  },
  {
   "cell_type": "markdown",
   "metadata": {},
   "source": [
    "create table"
   ]
  },
  {
   "cell_type": "code",
   "execution_count": 26,
   "metadata": {},
   "outputs": [],
   "source": [
    "table_name = \"quran_verses\"\n"
   ]
  },
  {
   "cell_type": "code",
   "execution_count": 31,
   "metadata": {},
   "outputs": [
    {
     "data": {
      "text/plain": [
       "<cassandra.cluster.ResultSet at 0x1ac267b2eb0>"
      ]
     },
     "execution_count": 31,
     "metadata": {},
     "output_type": "execute_result"
    }
   ],
   "source": [
    "create_table_query = f\"\"\"\n",
    "    CREATE TABLE IF NOT EXISTS {table_name} (\n",
    "        surah_id INT,\n",
    "        verse_id INT,\n",
    "        verse_text TEXT,\n",
    "        PRIMARY KEY (surah_id, verse_id)\n",
    "    )\n",
    "\"\"\"\n",
    "session.execute(create_table_query)"
   ]
  },
  {
   "cell_type": "code",
   "execution_count": 36,
   "metadata": {},
   "outputs": [
    {
     "data": {
      "text/plain": [
       "<cassandra.cluster.ResultSet at 0x1ac28fab490>"
      ]
     },
     "execution_count": 36,
     "metadata": {},
     "output_type": "execute_result"
    }
   ],
   "source": [
    "table_name2 = \"quran_translation\"\n",
    "create_table_query = f\"\"\"\n",
    "    CREATE TABLE IF NOT EXISTS {table_name2} (\n",
    "        surah_id INT,\n",
    "        verse_id INT,\n",
    "        translation_text TEXT,\n",
    "        language TEXT,\n",
    "        PRIMARY KEY ((surah_id, verse_id), language)\n",
    "    )\n",
    "\"\"\"\n",
    "session.execute(create_table_query)"
   ]
  },
  {
   "cell_type": "code",
   "execution_count": null,
   "metadata": {},
   "outputs": [],
   "source": []
  },
  {
   "cell_type": "markdown",
   "metadata": {},
   "source": [
    "Extract data from API"
   ]
  },
  {
   "cell_type": "code",
   "execution_count": 32,
   "metadata": {},
   "outputs": [],
   "source": [
    "api_url = \"http://api.alquran.cloud/v1/quran/ar.alafasy\"\n",
    "response = requests.get(api_url)\n",
    "data = response.json()\n"
   ]
  },
  {
   "cell_type": "code",
   "execution_count": 33,
   "metadata": {},
   "outputs": [],
   "source": [
    "for surah in data['data']['surahs']:\n",
    "    surah_id = surah['number']\n",
    "    for verse in surah['ayahs']:\n",
    "        verse_id = verse['number']\n",
    "        verse_text = verse['text']\n",
    "        insert_query = f\"\"\"\n",
    "            INSERT INTO {table_name} (surah_id, verse_id, verse_text)\n",
    "            VALUES (%s, %s, %s)\n",
    "        \"\"\"\n",
    "        session.execute(insert_query, (surah_id, verse_id, verse_text))"
   ]
  },
  {
   "cell_type": "code",
   "execution_count": 35,
   "metadata": {},
   "outputs": [
    {
     "name": "stdout",
     "output_type": "stream",
     "text": [
      "Row(surah_id=23, verse_id=2674, verse_text='بِسْمِ ٱللَّهِ ٱلرَّحْمَٰنِ ٱلرَّحِيمِ قَدْ أَفْلَحَ ٱلْمُؤْمِنُونَ')\n",
      "Row(surah_id=23, verse_id=2675, verse_text='ٱلَّذِينَ هُمْ فِى صَلَاتِهِمْ خَٰشِعُونَ')\n"
     ]
    }
   ],
   "source": [
    "select_query = f\"SELECT * FROM {table_name} LIMIT 2\"\n",
    "rows = session.execute(select_query)\n",
    "\n",
    "\n",
    "for row in rows:\n",
    "    print(row)\n"
   ]
  },
  {
   "cell_type": "code",
   "execution_count": 37,
   "metadata": {},
   "outputs": [],
   "source": [
    "api_url2 = \"http://api.alquran.cloud/v1/edition/en.sahih\"\n",
    "response2 = requests.get(api_url)\n",
    "data2 = response.json()"
   ]
  },
  {
   "cell_type": "code",
   "execution_count": 38,
   "metadata": {},
   "outputs": [],
   "source": [
    "for surah in data['data']['surahs']:\n",
    "    surah_id = surah['number']\n",
    "    for verse in surah['ayahs']:\n",
    "        verse_id = verse['number']\n",
    "        verse_text = verse['text']\n",
    "        insert_query = f\"\"\"\n",
    "            INSERT INTO {table_name2} (surah_id, verse_id, translation_text, language)\n",
    "            VALUES (%s, %s, %s, %s)\n",
    "        \"\"\"\n",
    "        session.execute(insert_query, (surah_id, verse_id, verse_text, 'english'))"
   ]
  },
  {
   "cell_type": "code",
   "execution_count": 42,
   "metadata": {},
   "outputs": [],
   "source": [
    "api_url3 = \"http://api.alquran.cloud/v1/edition/en.sahih\"\n",
    "response3 = requests.get(api_url)\n",
    "data3 = response.json()"
   ]
  },
  {
   "cell_type": "code",
   "execution_count": 43,
   "metadata": {},
   "outputs": [],
   "source": [
    "for surah in data3['data']['surahs']:\n",
    "    surah_id = surah['number']\n",
    "    for verse in surah['ayahs']:\n",
    "        verse_id = verse['number']\n",
    "        verse_text = verse['text']\n",
    "        insert_query = f\"\"\"\n",
    "            INSERT INTO {table_name2} (surah_id, verse_id, translation_text, language)\n",
    "            VALUES (%s, %s, %s, %s)\n",
    "        \"\"\"\n",
    "        session.execute(insert_query, (surah_id, verse_id, verse_text, 'arabic'))"
   ]
  },
  {
   "cell_type": "code",
   "execution_count": 44,
   "metadata": {},
   "outputs": [
    {
     "name": "stdout",
     "output_type": "stream",
     "text": [
      "Row(surah_id=60, verse_id=5159, language='english', translation_text='إِنَّمَا يَنْهَىٰكُمُ ٱللَّهُ عَنِ ٱلَّذِينَ قَٰتَلُوكُمْ فِى ٱلدِّينِ وَأَخْرَجُوكُم مِّن دِيَٰرِكُمْ وَظَٰهَرُوا۟ عَلَىٰٓ إِخْرَاجِكُمْ أَن تَوَلَّوْهُمْ ۚ وَمَن يَتَوَلَّهُمْ فَأُو۟لَٰٓئِكَ هُمُ ٱلظَّٰلِمُونَ')\n"
     ]
    }
   ],
   "source": [
    "select_query = f\"SELECT * FROM {table_name2} LIMIT 2\"\n",
    "rows = session.execute(select_query)\n",
    "\n",
    "\n",
    "print(row)"
   ]
  }
 ],
 "metadata": {
  "kernelspec": {
   "display_name": "base",
   "language": "python",
   "name": "python3"
  },
  "language_info": {
   "codemirror_mode": {
    "name": "ipython",
    "version": 3
   },
   "file_extension": ".py",
   "mimetype": "text/x-python",
   "name": "python",
   "nbconvert_exporter": "python",
   "pygments_lexer": "ipython3",
   "version": "3.9.12"
  }
 },
 "nbformat": 4,
 "nbformat_minor": 2
}
